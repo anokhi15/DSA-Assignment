{
 "cells": [
  {
   "cell_type": "markdown",
   "id": "fe4956d2",
   "metadata": {},
   "source": [
    "<aside>\n",
    "💡 **Question 1**\n",
    "\n",
    "Given an integer `n`, return *`true` if it is a power of three. Otherwise, return `false`*.\n",
    "\n",
    "An integer `n` is a power of three, if there exists an integer `x` such that `n == 3x`.\n",
    "\n",
    "**Example 1:**\n",
    "\n",
    "```\n",
    "Input: n = 27\n",
    "Output: true\n",
    "Explanation: 27 = 33\n",
    "```\n",
    "\n",
    "**Example 2:**\n",
    "\n",
    "```\n",
    "Input: n = 0\n",
    "Output: false\n",
    "Explanation: There is no x where 3x = 0.\n",
    "\n",
    "```\n",
    "\n",
    "**Example 3:**\n",
    "Input: n = -1\n",
    "Output: false\n",
    "Explanation: There is no x where 3x = (-1).\n",
    "\n",
    "</aside>"
   ]
  },
  {
   "cell_type": "code",
   "execution_count": 2,
   "id": "5c984252",
   "metadata": {},
   "outputs": [
    {
     "name": "stdout",
     "output_type": "stream",
     "text": [
      "True\n",
      "False\n",
      "False\n"
     ]
    }
   ],
   "source": [
    "def is_power_of_three(n):\n",
    "    if n <= 0:\n",
    "        return False\n",
    "    while n % 3 == 0:\n",
    "        n //= 3\n",
    "    return n == 1\n",
    "print(is_power_of_three(27)) \n",
    "print(is_power_of_three(0))  \n",
    "print(is_power_of_three(10))"
   ]
  },
  {
   "cell_type": "markdown",
   "id": "b776f3ed",
   "metadata": {},
   "source": [
    "<aside>\n",
    "💡 **Question 2**\n",
    "\n",
    "You have a list `arr` of all integers in the range `[1, n]` sorted in a strictly increasing order. Apply the following algorithm on `arr`:\n",
    "\n",
    "- Starting from left to right, remove the first number and every other number afterward until you reach the end of the list.\n",
    "- Repeat the previous step again, but this time from right to left, remove the rightmost number and every other number from the remaining numbers.\n",
    "- Keep repeating the steps again, alternating left to right and right to left, until a single number remains.\n",
    "\n",
    "Given the integer `n`, return *the last number that remains in* `arr`.\n",
    "\n",
    "**Example 1:**\n",
    "\n",
    "```\n",
    "Input: n = 9\n",
    "Output: 6\n",
    "Explanation:\n",
    "arr = [1, 2,3, 4,5, 6,7, 8,9]\n",
    "arr = [2,4, 6,8]\n",
    "arr = [2, 6]\n",
    "arr = [6]\n",
    "\n",
    "```\n",
    "\n",
    "**Example 2:**\n",
    "Input: n = 1\n",
    "Output: 1\n",
    "</aside>"
   ]
  },
  {
   "cell_type": "code",
   "execution_count": 7,
   "id": "7927a8fe",
   "metadata": {},
   "outputs": [
    {
     "name": "stdout",
     "output_type": "stream",
     "text": [
      "2\n"
     ]
    }
   ],
   "source": [
    "def lastRemaining(n):\n",
    "    arr = list(range(1, n+1))\n",
    "    return helper(arr, True)\n",
    "\n",
    "def helper(arr, left_to_right):\n",
    "    if len(arr) == 1:\n",
    "        return arr[0]\n",
    "\n",
    "    if left_to_right:\n",
    "        new_arr = arr[1::2]  # Remove every other number from left to right\n",
    "    else:\n",
    "        new_arr = arr[-2::-2]  # Remove every other number from right to left\n",
    "\n",
    "    return helper(new_arr, not left_to_right)\n",
    "print(lastRemaining(9))  # Output: 6\n"
   ]
  },
  {
   "cell_type": "markdown",
   "id": "f26dab3c",
   "metadata": {},
   "source": [
    "<aside>\n",
    "💡 **Question 3**\n",
    "\n",
    "****Given a set represented as a string, write a recursive code to print all subsets of it. The subsets can be printed in any order.\n",
    "\n",
    "**Example 1:**\n",
    "\n",
    "Input :  set = “abc”\n",
    "\n",
    "Output : { “”, “a”, “b”, “c”, “ab”, “ac”, “bc”, “abc”}\n",
    "\n",
    "**Example 2:**\n",
    "\n",
    "Input : set = “abcd”\n",
    "\n",
    "Output : { “”, “a” ,”ab” ,”abc” ,”abcd”, “abd” ,”ac” ,”acd”, “ad” ,”b”, “bc” ,”bcd” ,”bd” ,”c” ,”cd” ,”d” }\n",
    "\n",
    "</aside>"
   ]
  },
  {
   "cell_type": "code",
   "execution_count": 8,
   "id": "2519fa7d",
   "metadata": {},
   "outputs": [
    {
     "name": "stdout",
     "output_type": "stream",
     "text": [
      "Subsets of set1:\n",
      "\n",
      "c\n",
      "b\n",
      "bc\n",
      "a\n",
      "ac\n",
      "ab\n",
      "abc\n",
      "\n",
      "Subsets of set2:\n",
      "\n",
      "d\n",
      "c\n",
      "cd\n",
      "b\n",
      "bd\n",
      "bc\n",
      "bcd\n",
      "a\n",
      "ad\n",
      "ac\n",
      "acd\n",
      "ab\n",
      "abd\n",
      "abc\n",
      "abcd\n"
     ]
    }
   ],
   "source": [
    "def print_subsets(s, curr_subset, index):\n",
    "    # Base case: when all characters of the string have been considered\n",
    "    if index == len(s):\n",
    "        print(curr_subset)\n",
    "        return\n",
    "\n",
    "    # Recursive case 1: exclude the current character and move to the next index\n",
    "    print_subsets(s, curr_subset, index + 1)\n",
    "\n",
    "    # Recursive case 2: include the current character and move to the next index\n",
    "    print_subsets(s, curr_subset + s[index], index + 1)\n",
    "\n",
    "\n",
    "def print_all_subsets(s):\n",
    "    print_subsets(s, \"\", 0)\n",
    "\n",
    "\n",
    "# Example \n",
    "set1 = \"abc\"\n",
    "print(\"Subsets of set1:\")\n",
    "print_all_subsets(set1)\n",
    "\n",
    "set2 = \"abcd\"\n",
    "print(\"\\nSubsets of set2:\")\n",
    "print_all_subsets(set2)"
   ]
  },
  {
   "cell_type": "markdown",
   "id": "bae1d3ab",
   "metadata": {},
   "source": [
    "<aside>\n",
    "💡 **Question 4**\n",
    "\n",
    "Given a string calculate length of the string using recursion.\n",
    "\n",
    "**Examples:**\n",
    "    Input : str = \"abcd\"\n",
    "Output :4\n",
    "\n",
    "Input : str = \"GEEKSFORGEEKS\"\n",
    "Output :13\n",
    "\n",
    "</aside>"
   ]
  },
  {
   "cell_type": "code",
   "execution_count": 9,
   "id": "ecd30237",
   "metadata": {},
   "outputs": [
    {
     "name": "stdout",
     "output_type": "stream",
     "text": [
      "13\n"
     ]
    }
   ],
   "source": [
    "def calculate_length(string):\n",
    "    if string == '':\n",
    "        return 0\n",
    "    else:\n",
    "        return 1 + calculate_length(string[1:])\n",
    "\n",
    "# Example usage\n",
    "string = \"Hello, World!\"\n",
    "length = calculate_length(string)\n",
    "print(length)  # Output: 13"
   ]
  },
  {
   "cell_type": "markdown",
   "id": "837faa35",
   "metadata": {},
   "source": [
    "<aside>\n",
    "💡 **Question 5**\n",
    "\n",
    "We are given a string S, we need to find count of all contiguous substrings starting and ending with same character.\n",
    "\n",
    "**Examples :**\n",
    "Input  : S = \"abcab\"\n",
    "Output : 7\n",
    "There are 15 substrings of \"abcab\"\n",
    "a, ab, abc, abca, abcab, b, bc, bca\n",
    "bcab, c, ca, cab, a, ab, b\n",
    "Out of the above substrings, there\n",
    "are 7 substrings : a, abca, b, bcab,\n",
    "c, a and b.\n",
    "\n",
    "Input  : S = \"aba\"\n",
    "Output : 4\n",
    "The substrings are a, b, a and aba\n",
    "</aside>"
   ]
  },
  {
   "cell_type": "code",
   "execution_count": 10,
   "id": "71731e9f",
   "metadata": {},
   "outputs": [
    {
     "name": "stdout",
     "output_type": "stream",
     "text": [
      "5\n",
      "4\n"
     ]
    }
   ],
   "source": [
    "def count_substrings(s):\n",
    "    count = 0\n",
    "    n = len(s)\n",
    "    \n",
    "    for i in range(n):\n",
    "        count += 1  # Single character substring\n",
    "        \n",
    "        left = i - 1\n",
    "        right = i + 1\n",
    "        \n",
    "        while left >= 0 and right < n and s[left] == s[right]:\n",
    "            count += 1\n",
    "            left -= 1\n",
    "            right += 1\n",
    "    \n",
    "    return count\n",
    "s1 = \"abcab\"\n",
    "print(count_substrings(s1))  # Output: 7\n",
    "\n",
    "s2 = \"aba\"\n",
    "print(count_substrings(s2))"
   ]
  },
  {
   "cell_type": "markdown",
   "id": "9d86f383",
   "metadata": {},
   "source": [
    "<aside>\n",
    "💡 **Question 6**\n",
    "\n",
    "The [tower of Hanoi](https://en.wikipedia.org/wiki/Tower_of_Hanoi) is a famous puzzle where we have three rods and **N** disks. The objective of the puzzle is to move the entire stack to another rod. You are given the number of discs **N**. Initially, these discs are in the rod 1. You need to print all the steps of discs movement so that all the discs reach the 3rd rod. Also, you need to find the total moves.**Note:** The discs are arranged such that the **top disc is numbered 1** and the **bottom-most disc is numbered N**. Also, all the discs have **different sizes** and a bigger disc **cannot** be put on the top of a smaller disc. Refer the provided link to get a better clarity about the puzzle.\n",
    "\n",
    "**Example 1:**\n",
    "\n",
    "```\n",
    "Input:\n",
    "N = 2\n",
    "Output:\n",
    "move disk 1 from rod 1 to rod 2\n",
    "move disk 2 from rod 1 to rod 3\n",
    "move disk 1 from rod 2 to rod 3\n",
    "3\n",
    "Explanation:For N=2 , steps will be\n",
    "as follows in the example and total\n",
    "3 steps will be taken.\n",
    "```\n",
    "\n",
    "**Example 2:**\n",
    "Input:\n",
    "N = 3\n",
    "Output:\n",
    "move disk 1 from rod 1 to rod 3\n",
    "move disk 2 from rod 1 to rod 2\n",
    "move disk 1 from rod 3 to rod 2\n",
    "move disk 3 from rod 1 to rod 3\n",
    "move disk 1 from rod 2 to rod 1\n",
    "move disk 2 from rod 2 to rod 3\n",
    "move disk 1 from rod 1 to rod 3\n",
    "7\n",
    "Explanation:For N=3 , steps will be\n",
    "as follows in the example and total\n",
    "7 steps will be taken.\n",
    "</aside>"
   ]
  },
  {
   "cell_type": "code",
   "execution_count": 11,
   "id": "92be61c1",
   "metadata": {},
   "outputs": [
    {
     "name": "stdout",
     "output_type": "stream",
     "text": [
      "Move disc 1 from rod 1 to rod 3\n",
      "Move disc 2 from rod 1 to rod 2\n",
      "Move disc 1 from rod 3 to rod 2\n",
      "Move disc 3 from rod 1 to rod 3\n",
      "Move disc 1 from rod 2 to rod 1\n",
      "Move disc 2 from rod 2 to rod 3\n",
      "Move disc 1 from rod 1 to rod 3\n",
      "Total moves: 7\n"
     ]
    }
   ],
   "source": [
    "def tower_of_hanoi(n, source, destination, auxiliary):\n",
    "    if n == 1:\n",
    "        print(f\"Move disc 1 from rod {source} to rod {destination}\")\n",
    "        return 1\n",
    "    else:\n",
    "        moves = 0\n",
    "        moves += tower_of_hanoi(n - 1, source, auxiliary, destination)\n",
    "        print(f\"Move disc {n} from rod {source} to rod {destination}\")\n",
    "        moves += 1\n",
    "        moves += tower_of_hanoi(n - 1, auxiliary, destination, source)\n",
    "        return moves\n",
    "\n",
    "# Example usage\n",
    "n = 3  # Number of discs\n",
    "total_moves = tower_of_hanoi(n, 1, 3, 2)\n",
    "print(f\"Total moves: {total_moves}\")"
   ]
  },
  {
   "cell_type": "markdown",
   "id": "92cebb61",
   "metadata": {},
   "source": [
    "# <aside>\n",
    "💡 **Question 7**\n",
    "\n",
    "Given a string **str**, the task is to print all the permutations of **str**. A **permutation** is an arrangement of all or part of a set of objects, with regard to the order of the arrangement. For instance, the words ‘bat’ and ‘tab’ represents two distinct permutation (or arrangements) of a similar three letter word.\n",
    "\n",
    "**Examples:**\n",
    "\n",
    "> Input: str = “cd”\n",
    "> \n",
    "> \n",
    "> **Output:** cd dc\n",
    "> \n",
    "> **Input:** str = “abb”\n",
    "> \n",
    "> **Output:** abb abb bab bba bab bba\n",
    "> \n",
    "</aside>"
   ]
  },
  {
   "cell_type": "code",
   "execution_count": 12,
   "id": "227175d5",
   "metadata": {},
   "outputs": [
    {
     "name": "stdout",
     "output_type": "stream",
     "text": [
      "cd\n",
      "dc\n",
      "abb\n",
      "abb\n",
      "bab\n",
      "bba\n",
      "bba\n",
      "bab\n"
     ]
    }
   ],
   "source": [
    "def permute_string(s, l, r):\n",
    "    if l == r:\n",
    "        print(''.join(s))\n",
    "    else:\n",
    "        for i in range(l, r + 1):\n",
    "            s[l], s[i] = s[i], s[l]  # Swap characters\n",
    "            permute_string(s, l + 1, r)  # Recurse on the remaining string\n",
    "            s[l], s[i] = s[i], s[l]  # Revert the swap\n",
    "\n",
    "# Main function to call for generating permutations\n",
    "def print_permutations(str):\n",
    "    n = len(str)\n",
    "    s = list(str)  # Convert the string to a list of characters\n",
    "    permute_string(s, 0, n - 1)\n",
    "\n",
    "# Example usage\n",
    "print_permutations(\"cd\")\n",
    "print_permutations(\"abb\")"
   ]
  },
  {
   "cell_type": "markdown",
   "id": "12f43892",
   "metadata": {},
   "source": [
    "<aside>\n",
    "💡 **Question 8**\n",
    "\n",
    "Given a string, count total number of consonants in it. A consonant is an English alphabet character that is not vowel (a, e, i, o and u). Examples of constants are b, c, d, f, and g.\n",
    "\n",
    "**Examples :**\n",
    "Input : abc de\n",
    "Output : 3\n",
    "There are three consonants b, c and d.\n",
    "\n",
    "Input : geeksforgeeks portal\n",
    "Output : 12\n",
    "</aside>"
   ]
  },
  {
   "cell_type": "code",
   "execution_count": 13,
   "id": "46664ffc",
   "metadata": {},
   "outputs": [
    {
     "name": "stdout",
     "output_type": "stream",
     "text": [
      "Total number of consonants: 3\n",
      "Total number of consonants: 12\n"
     ]
    }
   ],
   "source": [
    "def count_consonants(string):\n",
    "    consonants = \"bcdfghjklmnpqrstvwxyz\"  # List of consonants\n",
    "    count = 0\n",
    "\n",
    "    for char in string.lower():  # Convert the string to lowercase for case-insensitive comparison\n",
    "        if char in consonants:\n",
    "            count += 1\n",
    "\n",
    "    return count\n",
    "\n",
    "# Example 1\n",
    "input_string = \"abc de\"\n",
    "consonant_count = count_consonants(input_string)\n",
    "print(\"Total number of consonants:\", consonant_count)\n",
    "\n",
    "#Example 2\n",
    "input_string = \"geeksforgeeks portal\"\n",
    "consonant_count = count_consonants(input_string)\n",
    "print(\"Total number of consonants:\", consonant_count)"
   ]
  },
  {
   "cell_type": "code",
   "execution_count": null,
   "id": "792c762d",
   "metadata": {},
   "outputs": [],
   "source": []
  }
 ],
 "metadata": {
  "kernelspec": {
   "display_name": "Python 3 (ipykernel)",
   "language": "python",
   "name": "python3"
  },
  "language_info": {
   "codemirror_mode": {
    "name": "ipython",
    "version": 3
   },
   "file_extension": ".py",
   "mimetype": "text/x-python",
   "name": "python",
   "nbconvert_exporter": "python",
   "pygments_lexer": "ipython3",
   "version": "3.10.9"
  }
 },
 "nbformat": 4,
 "nbformat_minor": 5
}
